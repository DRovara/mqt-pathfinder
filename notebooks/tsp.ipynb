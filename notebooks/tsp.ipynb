{
 "cells": [
  {
   "cell_type": "markdown",
   "metadata": {},
   "source": [
    "# Initialisation"
   ]
  },
  {
   "cell_type": "code",
   "execution_count": null,
   "metadata": {},
   "outputs": [],
   "source": [
    "from __future__ import annotations\n",
    "\n",
    "from pathlib import Path\n",
    "\n",
    "import mqt.pathfinder.utils as utils\n",
    "from mqt.pathfinder import cost_functions as cf\n",
    "from mqt.pathfinder.graph import Graph"
   ]
  },
  {
   "cell_type": "code",
   "execution_count": null,
   "metadata": {},
   "outputs": [],
   "source": [
    "with Path(\"input/graph\").open() as file:\n",
    "    graph = Graph.read(file)\n",
    "graph.plot()"
   ]
  },
  {
   "cell_type": "markdown",
   "metadata": {},
   "source": [
    "# QUBO Construction"
   ]
  },
  {
   "cell_type": "markdown",
   "metadata": {},
   "source": [
    "### Parameters"
   ]
  },
  {
   "cell_type": "code",
   "execution_count": null,
   "metadata": {},
   "outputs": [],
   "source": [
    "encoding_type = cf.EncodingType.UNARY\n",
    "n_paths = 1\n",
    "max_path_length = graph.n_vertices\n",
    "loop = True"
   ]
  },
  {
   "cell_type": "code",
   "execution_count": null,
   "metadata": {},
   "outputs": [],
   "source": [
    "settings = cf.PathFindingQUBOGeneratorSettings(encoding_type, n_paths, max_path_length, loop)\n",
    "\n",
    "generator = cf.PathFindingQUBOGenerator(\n",
    "    # objective_function=cf.MinimisePathLength(path_ids=[1]), graph=graph, settings=settings\n",
    "    objective_function=None,\n",
    "    graph=graph,\n",
    "    settings=settings,\n",
    ")"
   ]
  },
  {
   "cell_type": "markdown",
   "metadata": {},
   "source": [
    "### Constraints"
   ]
  },
  {
   "cell_type": "code",
   "execution_count": null,
   "metadata": {},
   "outputs": [],
   "source": [
    "generator.add_constraint(cf.PathIsValid(path_ids=[1]))\n",
    "generator.add_constraint(cf.PathContainsVerticesExactlyOnce(vertex_ids=graph.all_vertices, possible_paths=[1]))"
   ]
  },
  {
   "cell_type": "markdown",
   "metadata": {},
   "source": [
    "### Generate QUBO Formulation"
   ]
  },
  {
   "cell_type": "code",
   "execution_count": null,
   "metadata": {},
   "outputs": [],
   "source": [
    "print(generator._select_lambdas())\n",
    "generator.construct()"
   ]
  },
  {
   "cell_type": "code",
   "execution_count": null,
   "metadata": {},
   "outputs": [],
   "source": [
    "generator.construct_expansion()"
   ]
  },
  {
   "cell_type": "code",
   "execution_count": null,
   "metadata": {},
   "outputs": [],
   "source": [
    "A = generator.construct_qubo_matrix()\n",
    "utils.print_matrix(A)"
   ]
  },
  {
   "cell_type": "markdown",
   "metadata": {},
   "source": [
    "# Test Results"
   ]
  },
  {
   "cell_type": "markdown",
   "metadata": {},
   "source": [
    "### Brute Force Optimisation"
   ]
  },
  {
   "cell_type": "code",
   "execution_count": null,
   "metadata": {},
   "outputs": [],
   "source": [
    "import numpy as np\n",
    "\n",
    "(best_test, best_score) = utils.optimise_classically(A)\n",
    "\n",
    "x = np.array(best_test)\n",
    "pth = generator.decode_bit_array(best_test)\n",
    "print(pth)"
   ]
  },
  {
   "cell_type": "code",
   "execution_count": null,
   "metadata": {},
   "outputs": [],
   "source": []
  },
  {
   "cell_type": "markdown",
   "metadata": {},
   "source": [
    "### Operator: Classical Eigensolver"
   ]
  },
  {
   "cell_type": "code",
   "execution_count": null,
   "metadata": {},
   "outputs": [],
   "source": [
    "from typing import TYPE_CHECKING\n",
    "\n",
    "import numpy as np\n",
    "import numpy.typing as npt\n",
    "from qiskit.algorithms.minimum_eigensolvers import NumPyMinimumEigensolver\n",
    "from qiskit.result import QuasiDistribution\n",
    "\n",
    "if TYPE_CHECKING:\n",
    "    from qiskit.quantum_info import Statevector\n",
    "\n",
    "\n",
    "def bitfield(n: int, L: int) -> list[int]:\n",
    "    result = np.binary_repr(n, L)\n",
    "    return [int(digit) for digit in result]\n",
    "\n",
    "\n",
    "def sample_most_likely(\n",
    "    state_vector: QuasiDistribution | Statevector | dict[str, float]\n",
    ") -> npt.NDArray[np.int_ | np.float64]:\n",
    "    \"\"\"Compute the most likely binary string from state vector.\n",
    "    Args:\n",
    "        state_vector: State vector or quasi-distribution.\n",
    "\n",
    "    Returns:\n",
    "        Binary string as an array of ints.\n",
    "    \"\"\"\n",
    "    values = (\n",
    "        list(state_vector.values())\n",
    "        if isinstance(state_vector, QuasiDistribution)\n",
    "        else [state_vector[key] for key in state_vector]\n",
    "        if isinstance(state_vector, dict)\n",
    "        else state_vector\n",
    "    )\n",
    "    n = int(np.log2(len(values)))\n",
    "    k = np.argmax(np.abs(values))\n",
    "    x = bitfield(k, n)\n",
    "    x.reverse()\n",
    "    return np.asarray(x)\n",
    "\n",
    "\n",
    "op = generator.construct_operator()\n",
    "\n",
    "npme = NumPyMinimumEigensolver()\n",
    "result = npme.compute_minimum_eigenvalue(op)\n",
    "x = sample_most_likely(result.eigenstate)\n",
    "print(x)\n",
    "print(generator.decode_bit_array(x))\n",
    "print(result.eigenvalue)"
   ]
  },
  {
   "cell_type": "markdown",
   "metadata": {},
   "source": [
    "## Quantum Circuits"
   ]
  },
  {
   "cell_type": "markdown",
   "metadata": {},
   "source": [
    "### QAOA"
   ]
  },
  {
   "cell_type": "code",
   "execution_count": null,
   "metadata": {},
   "outputs": [],
   "source": [
    "from qiskit.algorithms.minimum_eigensolvers import QAOA\n",
    "from qiskit.algorithms.optimizers import COBYLA\n",
    "from qiskit.primitives import Sampler\n",
    "from qiskit.utils import algorithm_globals\n",
    "\n",
    "seed = 100000  # random.randint(10000, 20000)\n",
    "algorithm_globals.random_seed = seed\n",
    "op = generator.construct_operator()\n",
    "\n",
    "sampler = Sampler()\n",
    "optimizer = COBYLA()\n",
    "qaoa = QAOA(sampler, optimizer, reps=3)\n",
    "\n",
    "result = qaoa.compute_minimum_eigenvalue(op)\n",
    "x = sample_most_likely(result.eigenstate)\n",
    "print(generator.decode_bit_array(x))\n",
    "print(result.eigenvalue)"
   ]
  },
  {
   "cell_type": "markdown",
   "metadata": {},
   "source": [
    "### VQE"
   ]
  },
  {
   "cell_type": "code",
   "execution_count": null,
   "metadata": {},
   "outputs": [],
   "source": [
    "from qiskit import Aer\n",
    "from qiskit.algorithms import VQE\n",
    "from qiskit.algorithms.optimizers import COBYLA\n",
    "from qiskit.circuit.library import EfficientSU2\n",
    "from qiskit.primitives import Sampler\n",
    "from qiskit.utils import algorithm_globals\n",
    "\n",
    "\n",
    "def sample_most_likely_dict(states: dict[str, float]) -> npt.NDArray[np.int_ | np.float64]:\n",
    "    \"\"\"Compute the most likely binary string from state vector.\n",
    "    Args:\n",
    "        state_vector: State vector or quasi-distribution.\n",
    "\n",
    "    Returns:\n",
    "        Binary string as an array of ints.\n",
    "    \"\"\"\n",
    "    len(next(iter(states.keys())))\n",
    "    x = max([(key, states[key]) for key in states], key=lambda e: e[1])[0]\n",
    "    x = list(reversed([int(y) for y in x]))\n",
    "    print(x)\n",
    "    return np.asarray(x)\n",
    "\n",
    "\n",
    "seed = 200000  # random.randint(10000, 20000)\n",
    "algorithm_globals.random_seed = seed\n",
    "op = generator.construct_operator()\n",
    "\n",
    "# ansatz = TwoLocal(op.num_qubits, 'ry', 'cz', reps=2, entanglement='linear')\n",
    "ansatz = EfficientSU2(op.num_qubits, reps=1)\n",
    "# ansatz = TwoLocal(op.num_qubits, 'ry', 'cz', reps=2, entanglement='linear')\n",
    "vqe = VQE(ansatz, optimizer, quantum_instance=Aer.get_backend(\"qasm_simulator\"))\n",
    "\n",
    "result = vqe.compute_minimum_eigenvalue(op)\n",
    "\n",
    "x = sample_most_likely_dict(result.eigenstate)\n",
    "print(generator.decode_bit_array(x))\n",
    "print(result.eigenvalue)"
   ]
  },
  {
   "cell_type": "markdown",
   "metadata": {},
   "source": [
    "# Other Problems"
   ]
  },
  {
   "cell_type": "markdown",
   "metadata": {},
   "source": [
    "_Also define the starting vertex of the path_"
   ]
  },
  {
   "cell_type": "code",
   "execution_count": null,
   "metadata": {},
   "outputs": [],
   "source": [
    "generator_new = cf.PathFindingQUBOGenerator(cf.MinimisePathLength([1], loop=True), graph, settings)\n",
    "generator_new.add_constraint(cf.PathIsValid([1]))\n",
    "generator_new.add_constraint(cf.PathIsLoop([1]))\n",
    "generator_new.add_constraint(cf.PathContainsVerticesExactlyOnce(graph.all_vertices, [1]))\n",
    "\n",
    "\n",
    "generator_new.add_constraint(cf.PathStartsAt([4], 1))\n",
    "\n",
    "\n",
    "A = generator_new.construct_qubo_matrix()\n",
    "(best_test, best_score) = utils.optimise_classically(A)\n",
    "\n",
    "pth = generator_new.decode_bit_array(best_test)\n",
    "print(pth)"
   ]
  },
  {
   "cell_type": "markdown",
   "metadata": {},
   "source": [
    "_Find the shortest paths $\\pi_1$ and $\\pi_2$ from $s_p$ to $t_p$ respectively that don't interesect_"
   ]
  },
  {
   "cell_type": "code",
   "execution_count": null,
   "metadata": {},
   "outputs": [],
   "source": [
    "(s1, t1) = 1, 5\n",
    "(s2, t2) = 2, 6\n",
    "\n",
    "settings = cf.PathFindingQUBOGeneratorSettings(encoding_type, 2, max_path_length)\n",
    "generator_new = cf.PathFindingQUBOGenerator(cf.MinimisePathLength([1, 2]), graph, settings)\n",
    "generator_new.add_constraint(cf.PathIsValid([1, 2]))\n",
    "generator_new.add_constraint(cf.PathIsLoop([1, 2]))\n",
    "generator_new.add_constraint(cf.PathStartsAt([s1], 1))\n",
    "generator_new.add_constraint(cf.PathStartsAt([s2], 2))\n",
    "generator_new.add_constraint(cf.PathEndsAt([t1], 1))\n",
    "generator_new.add_constraint(cf.PathEndsAt([t2], 2))\n",
    "generator_new.add_constraint(cf.PathsShareNoVertices([1, 2]))"
   ]
  }
 ],
 "metadata": {
  "kernelspec": {
   "display_name": "mqt-test",
   "language": "python",
   "name": "python3"
  },
  "language_info": {
   "codemirror_mode": {
    "name": "ipython",
    "version": 3
   },
   "file_extension": ".py",
   "mimetype": "text/x-python",
   "name": "python",
   "nbconvert_exporter": "python",
   "pygments_lexer": "ipython3"
  }
 },
 "nbformat": 4,
 "nbformat_minor": 2
}
