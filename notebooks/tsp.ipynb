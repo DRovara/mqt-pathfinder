{
 "cells": [
  {
   "cell_type": "markdown",
   "metadata": {},
   "source": [
    "## Initialisation"
   ]
  },
  {
   "cell_type": "code",
   "execution_count": 1,
   "metadata": {},
   "outputs": [],
   "source": [
    "from mqt.pathfinder import cost_functions as cf\n",
    "from mqt.pathfinder.graph import Graph\n",
    "import mqt.pathfinder.utils as utils"
   ]
  },
  {
   "cell_type": "code",
   "execution_count": 2,
   "metadata": {},
   "outputs": [
    {
     "data": {
      "image/png": "[encoded data removed]",
      "text/plain": [
       "<Figure size 640x480 with 1 Axes>"
      ]
     },
     "metadata": {},
     "output_type": "display_data"
    }
   ],
   "source": [
    "with open(\"graph\", \"r\") as file:\n",
    "    graph = Graph.read(file)\n",
    "graph.plot()"
   ]
  },
  {
   "cell_type": "markdown",
   "metadata": {},
   "source": [
    "## QUBO Construction"
   ]
  },
  {
   "cell_type": "markdown",
   "metadata": {},
   "source": [
    "### Parameters"
   ]
  },
  {
   "cell_type": "code",
   "execution_count": 3,
   "metadata": {},
   "outputs": [],
   "source": [
    "encoding_type = cf.EncodingType.ONE_HOT\n",
    "n_paths = 1\n",
    "max_path_length = graph.n_vertices"
   ]
  },
  {
   "cell_type": "code",
   "execution_count": 4,
   "metadata": {},
   "outputs": [],
   "source": [
    "settings = cf.PathFindingQUBOGeneratorSettings(encoding_type, n_paths, max_path_length)\n",
    "generator = cf.PathFindingQUBOGenerator(cf.MinimisePathLength([1], loop=True), graph, settings)"
   ]
  },
  {
   "cell_type": "markdown",
   "metadata": {},
   "source": [
    "### Constraints"
   ]
  },
  {
   "cell_type": "code",
   "execution_count": 5,
   "metadata": {},
   "outputs": [
    {
     "data": {
      "text/plain": [
       "<mqt.pathfinder.cost_functions.PathFindingQUBOGenerator at 0x7fdd857fdbd0>"
      ]
     },
     "execution_count": 5,
     "metadata": {},
     "output_type": "execute_result"
    }
   ],
   "source": [
    "generator.add_constraint(cf.PathIsValid([1]))\n",
    "generator.add_constraint(cf.PathIsLoop([1]))\n",
    "generator.add_constraint(cf.PathContainsVerticesExactlyOnce(graph.all_vertices, [1]))"
   ]
  },
  {
   "cell_type": "markdown",
   "metadata": {},
   "source": [
    "### Generate QUBO Formulation"
   ]
  },
  {
   "cell_type": "code",
   "execution_count": 6,
   "metadata": {},
   "outputs": [
    {
     "data": {
      "text/latex": [
       "$\\displaystyle 25.0 \\left(1 - \\sum_{i=1}^{4} x_{1,1,i}\\right)^{2} + 25.0 \\left(1 - \\sum_{i=1}^{4} x_{1,2,i}\\right)^{2} + 25.0 \\left(1 - \\sum_{i=1}^{4} x_{1,3,i}\\right)^{2} + 25.0 \\left(1 - \\sum_{i=1}^{4} x_{1,4,i}\\right)^{2} + 25.0 x_{1,1,1} x_{1,1,4} + 25.0 x_{1,1,4} x_{1,4,1} + 25.0 x_{1,2,1} x_{1,2,4} + 25.0 x_{1,2,1} x_{1,3,4} + 25.0 x_{1,2,1} x_{1,4,4} + 25.0 x_{1,2,4} x_{1,3,1} + 25.0 x_{1,3,1} x_{1,3,4} + 25.0 x_{1,4,1} x_{1,4,4} + 25.0 \\sum_{i=1}^{3} x_{1,1,i} x_{1,1,i + 1} + 25.0 \\sum_{i=1}^{3} x_{1,1,i} x_{1,4,i + 1} + 25.0 \\sum_{i=1}^{3} x_{1,2,i} x_{1,2,i + 1} + 25.0 \\sum_{i=1}^{3} x_{1,2,i} x_{1,3,i + 1} + 25.0 \\sum_{i=1}^{3} x_{1,2,i + 1} x_{1,3,i} + 25.0 \\sum_{i=1}^{3} x_{1,2,i + 1} x_{1,4,i} + 25.0 \\sum_{i=1}^{3} x_{1,3,i} x_{1,3,i + 1} + 25.0 \\sum_{i=1}^{3} x_{1,4,i} x_{1,4,i + 1} + 200.0 \\sum_{i=1}^{4} \\left(- x_{1,1,i} - x_{1,2,i} - x_{1,3,i} - x_{1,4,i} + 1\\right)^{2} + \\sum_{\\substack{1 \\leq w \\leq 4\\\\1 \\leq v \\leq 4}} \\left(x_{1,v,4} x_{1,w,1} + \\sum_{i=1}^{3} A_{v,w} x_{1,v,i} x_{1,w,i + 1}\\right)$"
      ],
      "text/plain": [
       "25.0*(1 - Sum(X(1, 1, i), (i, 1, 4)))**2 + 25.0*(1 - Sum(X(1, 2, i), (i, 1, 4)))**2 + 25.0*(1 - Sum(X(1, 3, i), (i, 1, 4)))**2 + 25.0*(1 - Sum(X(1, 4, i), (i, 1, 4)))**2 + 25.0*X(1, 1, 1)*X(1, 1, 4) + 25.0*X(1, 1, 4)*X(1, 4, 1) + 25.0*X(1, 2, 1)*X(1, 2, 4) + 25.0*X(1, 2, 1)*X(1, 3, 4) + 25.0*X(1, 2, 1)*X(1, 4, 4) + 25.0*X(1, 2, 4)*X(1, 3, 1) + 25.0*X(1, 3, 1)*X(1, 3, 4) + 25.0*X(1, 4, 1)*X(1, 4, 4) + 25.0*Sum(X(1, 1, i)*X(1, 1, i + 1), (i, 1, 3)) + 25.0*Sum(X(1, 1, i)*X(1, 4, i + 1), (i, 1, 3)) + 25.0*Sum(X(1, 2, i)*X(1, 2, i + 1), (i, 1, 3)) + 25.0*Sum(X(1, 2, i)*X(1, 3, i + 1), (i, 1, 3)) + 25.0*Sum(X(1, 2, i + 1)*X(1, 3, i), (i, 1, 3)) + 25.0*Sum(X(1, 2, i + 1)*X(1, 4, i), (i, 1, 3)) + 25.0*Sum(X(1, 3, i)*X(1, 3, i + 1), (i, 1, 3)) + 25.0*Sum(X(1, 4, i)*X(1, 4, i + 1), (i, 1, 3)) + 200.0*Sum((-X(1, 1, i) - X(1, 2, i) - X(1, 3, i) - X(1, 4, i) + 1)**2, (i, 1, 4)) + Sum(X(1, v, 4)*X(1, w, 1) + Sum(A(v, w)*X(1, v, i)*X(1, w, i + 1), (i, 1, 3)), (w, 1, 4), (v, 1, 4))"
      ]
     },
     "execution_count": 6,
     "metadata": {},
     "output_type": "execute_result"
    }
   ],
   "source": [
    "generator.construct()"
   ]
  },
  {
   "cell_type": "code",
   "execution_count": 7,
   "metadata": {},
   "outputs": [
    {
     "data": {
      "text/latex": [
       "$\\displaystyle 225.0 x_{1,1,1} + 75.0 x_{1,1,1} x_{1,1,2} + 50.0 x_{1,1,1} x_{1,1,3} + 76.0 x_{1,1,1} x_{1,1,4} + 400.0 x_{1,1,1} x_{1,2,1} + 4.0 x_{1,1,1} x_{1,2,2} + x_{1,1,1} x_{1,2,4} + 400.0 x_{1,1,1} x_{1,3,1} + 2.0 x_{1,1,1} x_{1,3,2} + x_{1,1,1} x_{1,3,4} + 400.0 x_{1,1,1} x_{1,4,1} + 25.0 x_{1,1,1} x_{1,4,2} + x_{1,1,1} x_{1,4,4} - 450.0 x_{1,1,1} + 225.0 x_{1,1,2} + 75.0 x_{1,1,2} x_{1,1,3} + 50.0 x_{1,1,2} x_{1,1,4} + 3.0 x_{1,1,2} x_{1,2,1} + 400.0 x_{1,1,2} x_{1,2,2} + 4.0 x_{1,1,2} x_{1,2,3} + 2.0 x_{1,1,2} x_{1,3,1} + 400.0 x_{1,1,2} x_{1,3,2} + 2.0 x_{1,1,2} x_{1,3,3} + 2.0 x_{1,1,2} x_{1,4,1} + 400.0 x_{1,1,2} x_{1,4,2} + 25.0 x_{1,1,2} x_{1,4,3} - 450.0 x_{1,1,2} + 225.0 x_{1,1,3} + 75.0 x_{1,1,3} x_{1,1,4} + 3.0 x_{1,1,3} x_{1,2,2} + 400.0 x_{1,1,3} x_{1,2,3} + 4.0 x_{1,1,3} x_{1,2,4} + 2.0 x_{1,1,3} x_{1,3,2} + 400.0 x_{1,1,3} x_{1,3,3} + 2.0 x_{1,1,3} x_{1,3,4} + 2.0 x_{1,1,3} x_{1,4,2} + 400.0 x_{1,1,3} x_{1,4,3} + 25.0 x_{1,1,3} x_{1,4,4} - 450.0 x_{1,1,3} + 225.0 x_{1,1,4} + x_{1,1,4} x_{1,2,1} + 3.0 x_{1,1,4} x_{1,2,3} + 400.0 x_{1,1,4} x_{1,2,4} + x_{1,1,4} x_{1,3,1} + 2.0 x_{1,1,4} x_{1,3,3} + 400.0 x_{1,1,4} x_{1,3,4} + 26.0 x_{1,1,4} x_{1,4,1} + 2.0 x_{1,1,4} x_{1,4,3} + 400.0 x_{1,1,4} x_{1,4,4} - 450.0 x_{1,1,4} + 225.0 x_{1,2,1} + 75.0 x_{1,2,1} x_{1,2,2} + 50.0 x_{1,2,1} x_{1,2,3} + 76.0 x_{1,2,1} x_{1,2,4} + 400.0 x_{1,2,1} x_{1,3,1} + 25.0 x_{1,2,1} x_{1,3,2} + 26.0 x_{1,2,1} x_{1,3,4} + 400.0 x_{1,2,1} x_{1,4,1} + 2.0 x_{1,2,1} x_{1,4,2} + 26.0 x_{1,2,1} x_{1,4,4} - 450.0 x_{1,2,1} + 225.0 x_{1,2,2} + 75.0 x_{1,2,2} x_{1,2,3} + 50.0 x_{1,2,2} x_{1,2,4} + 25.0 x_{1,2,2} x_{1,3,1} + 400.0 x_{1,2,2} x_{1,3,2} + 25.0 x_{1,2,2} x_{1,3,3} + 25.0 x_{1,2,2} x_{1,4,1} + 400.0 x_{1,2,2} x_{1,4,2} + 2.0 x_{1,2,2} x_{1,4,3} - 450.0 x_{1,2,2} + 225.0 x_{1,2,3} + 75.0 x_{1,2,3} x_{1,2,4} + 25.0 x_{1,2,3} x_{1,3,2} + 400.0 x_{1,2,3} x_{1,3,3} + 25.0 x_{1,2,3} x_{1,3,4} + 25.0 x_{1,2,3} x_{1,4,2} + 400.0 x_{1,2,3} x_{1,4,3} + 2.0 x_{1,2,3} x_{1,4,4} - 450.0 x_{1,2,3} + 225.0 x_{1,2,4} + 26.0 x_{1,2,4} x_{1,3,1} + 25.0 x_{1,2,4} x_{1,3,3} + 400.0 x_{1,2,4} x_{1,3,4} + x_{1,2,4} x_{1,4,1} + 25.0 x_{1,2,4} x_{1,4,3} + 400.0 x_{1,2,4} x_{1,4,4} - 450.0 x_{1,2,4} + 225.0 x_{1,3,1} + 75.0 x_{1,3,1} x_{1,3,2} + 50.0 x_{1,3,1} x_{1,3,3} + 76.0 x_{1,3,1} x_{1,3,4} + 400.0 x_{1,3,1} x_{1,4,1} + 5.0 x_{1,3,1} x_{1,4,2} + x_{1,3,1} x_{1,4,4} - 450.0 x_{1,3,1} + 225.0 x_{1,3,2} + 75.0 x_{1,3,2} x_{1,3,3} + 50.0 x_{1,3,2} x_{1,3,4} + 5.0 x_{1,3,2} x_{1,4,1} + 400.0 x_{1,3,2} x_{1,4,2} + 5.0 x_{1,3,2} x_{1,4,3} - 450.0 x_{1,3,2} + 225.0 x_{1,3,3} + 75.0 x_{1,3,3} x_{1,3,4} + 5.0 x_{1,3,3} x_{1,4,2} + 400.0 x_{1,3,3} x_{1,4,3} + 5.0 x_{1,3,3} x_{1,4,4} - 450.0 x_{1,3,3} + 225.0 x_{1,3,4} + x_{1,3,4} x_{1,4,1} + 5.0 x_{1,3,4} x_{1,4,3} + 400.0 x_{1,3,4} x_{1,4,4} - 450.0 x_{1,3,4} + 225.0 x_{1,4,1} + 75.0 x_{1,4,1} x_{1,4,2} + 50.0 x_{1,4,1} x_{1,4,3} + 76.0 x_{1,4,1} x_{1,4,4} - 450.0 x_{1,4,1} + 225.0 x_{1,4,2} + 75.0 x_{1,4,2} x_{1,4,3} + 50.0 x_{1,4,2} x_{1,4,4} - 450.0 x_{1,4,2} + 225.0 x_{1,4,3} + 75.0 x_{1,4,3} x_{1,4,4} - 450.0 x_{1,4,3} + 225.0 x_{1,4,4} - 450.0 x_{1,4,4} + 900.0$"
      ],
      "text/plain": [
       "225.0*X(1, 1, 1)**2 + 75.0*X(1, 1, 1)*X(1, 1, 2) + 50.0*X(1, 1, 1)*X(1, 1, 3) + 76.0*X(1, 1, 1)*X(1, 1, 4) + 400.0*X(1, 1, 1)*X(1, 2, 1) + 4.0*X(1, 1, 1)*X(1, 2, 2) + X(1, 1, 1)*X(1, 2, 4) + 400.0*X(1, 1, 1)*X(1, 3, 1) + 2.0*X(1, 1, 1)*X(1, 3, 2) + X(1, 1, 1)*X(1, 3, 4) + 400.0*X(1, 1, 1)*X(1, 4, 1) + 25.0*X(1, 1, 1)*X(1, 4, 2) + X(1, 1, 1)*X(1, 4, 4) - 450.0*X(1, 1, 1) + 225.0*X(1, 1, 2)**2 + 75.0*X(1, 1, 2)*X(1, 1, 3) + 50.0*X(1, 1, 2)*X(1, 1, 4) + 3.0*X(1, 1, 2)*X(1, 2, 1) + 400.0*X(1, 1, 2)*X(1, 2, 2) + 4.0*X(1, 1, 2)*X(1, 2, 3) + 2.0*X(1, 1, 2)*X(1, 3, 1) + 400.0*X(1, 1, 2)*X(1, 3, 2) + 2.0*X(1, 1, 2)*X(1, 3, 3) + 2.0*X(1, 1, 2)*X(1, 4, 1) + 400.0*X(1, 1, 2)*X(1, 4, 2) + 25.0*X(1, 1, 2)*X(1, 4, 3) - 450.0*X(1, 1, 2) + 225.0*X(1, 1, 3)**2 + 75.0*X(1, 1, 3)*X(1, 1, 4) + 3.0*X(1, 1, 3)*X(1, 2, 2) + 400.0*X(1, 1, 3)*X(1, 2, 3) + 4.0*X(1, 1, 3)*X(1, 2, 4) + 2.0*X(1, 1, 3)*X(1, 3, 2) + 400.0*X(1, 1, 3)*X(1, 3, 3) + 2.0*X(1, 1, 3)*X(1, 3, 4) + 2.0*X(1, 1, 3)*X(1, 4, 2) + 400.0*X(1, 1, 3)*X(1, 4, 3) + 25.0*X(1, 1, 3)*X(1, 4, 4) - 450.0*X(1, 1, 3) + 225.0*X(1, 1, 4)**2 + X(1, 1, 4)*X(1, 2, 1) + 3.0*X(1, 1, 4)*X(1, 2, 3) + 400.0*X(1, 1, 4)*X(1, 2, 4) + X(1, 1, 4)*X(1, 3, 1) + 2.0*X(1, 1, 4)*X(1, 3, 3) + 400.0*X(1, 1, 4)*X(1, 3, 4) + 26.0*X(1, 1, 4)*X(1, 4, 1) + 2.0*X(1, 1, 4)*X(1, 4, 3) + 400.0*X(1, 1, 4)*X(1, 4, 4) - 450.0*X(1, 1, 4) + 225.0*X(1, 2, 1)**2 + 75.0*X(1, 2, 1)*X(1, 2, 2) + 50.0*X(1, 2, 1)*X(1, 2, 3) + 76.0*X(1, 2, 1)*X(1, 2, 4) + 400.0*X(1, 2, 1)*X(1, 3, 1) + 25.0*X(1, 2, 1)*X(1, 3, 2) + 26.0*X(1, 2, 1)*X(1, 3, 4) + 400.0*X(1, 2, 1)*X(1, 4, 1) + 2.0*X(1, 2, 1)*X(1, 4, 2) + 26.0*X(1, 2, 1)*X(1, 4, 4) - 450.0*X(1, 2, 1) + 225.0*X(1, 2, 2)**2 + 75.0*X(1, 2, 2)*X(1, 2, 3) + 50.0*X(1, 2, 2)*X(1, 2, 4) + 25.0*X(1, 2, 2)*X(1, 3, 1) + 400.0*X(1, 2, 2)*X(1, 3, 2) + 25.0*X(1, 2, 2)*X(1, 3, 3) + 25.0*X(1, 2, 2)*X(1, 4, 1) + 400.0*X(1, 2, 2)*X(1, 4, 2) + 2.0*X(1, 2, 2)*X(1, 4, 3) - 450.0*X(1, 2, 2) + 225.0*X(1, 2, 3)**2 + 75.0*X(1, 2, 3)*X(1, 2, 4) + 25.0*X(1, 2, 3)*X(1, 3, 2) + 400.0*X(1, 2, 3)*X(1, 3, 3) + 25.0*X(1, 2, 3)*X(1, 3, 4) + 25.0*X(1, 2, 3)*X(1, 4, 2) + 400.0*X(1, 2, 3)*X(1, 4, 3) + 2.0*X(1, 2, 3)*X(1, 4, 4) - 450.0*X(1, 2, 3) + 225.0*X(1, 2, 4)**2 + 26.0*X(1, 2, 4)*X(1, 3, 1) + 25.0*X(1, 2, 4)*X(1, 3, 3) + 400.0*X(1, 2, 4)*X(1, 3, 4) + X(1, 2, 4)*X(1, 4, 1) + 25.0*X(1, 2, 4)*X(1, 4, 3) + 400.0*X(1, 2, 4)*X(1, 4, 4) - 450.0*X(1, 2, 4) + 225.0*X(1, 3, 1)**2 + 75.0*X(1, 3, 1)*X(1, 3, 2) + 50.0*X(1, 3, 1)*X(1, 3, 3) + 76.0*X(1, 3, 1)*X(1, 3, 4) + 400.0*X(1, 3, 1)*X(1, 4, 1) + 5.0*X(1, 3, 1)*X(1, 4, 2) + X(1, 3, 1)*X(1, 4, 4) - 450.0*X(1, 3, 1) + 225.0*X(1, 3, 2)**2 + 75.0*X(1, 3, 2)*X(1, 3, 3) + 50.0*X(1, 3, 2)*X(1, 3, 4) + 5.0*X(1, 3, 2)*X(1, 4, 1) + 400.0*X(1, 3, 2)*X(1, 4, 2) + 5.0*X(1, 3, 2)*X(1, 4, 3) - 450.0*X(1, 3, 2) + 225.0*X(1, 3, 3)**2 + 75.0*X(1, 3, 3)*X(1, 3, 4) + 5.0*X(1, 3, 3)*X(1, 4, 2) + 400.0*X(1, 3, 3)*X(1, 4, 3) + 5.0*X(1, 3, 3)*X(1, 4, 4) - 450.0*X(1, 3, 3) + 225.0*X(1, 3, 4)**2 + X(1, 3, 4)*X(1, 4, 1) + 5.0*X(1, 3, 4)*X(1, 4, 3) + 400.0*X(1, 3, 4)*X(1, 4, 4) - 450.0*X(1, 3, 4) + 225.0*X(1, 4, 1)**2 + 75.0*X(1, 4, 1)*X(1, 4, 2) + 50.0*X(1, 4, 1)*X(1, 4, 3) + 76.0*X(1, 4, 1)*X(1, 4, 4) - 450.0*X(1, 4, 1) + 225.0*X(1, 4, 2)**2 + 75.0*X(1, 4, 2)*X(1, 4, 3) + 50.0*X(1, 4, 2)*X(1, 4, 4) - 450.0*X(1, 4, 2) + 225.0*X(1, 4, 3)**2 + 75.0*X(1, 4, 3)*X(1, 4, 4) - 450.0*X(1, 4, 3) + 225.0*X(1, 4, 4)**2 - 450.0*X(1, 4, 4) + 900.0"
      ]
     },
     "execution_count": 7,
     "metadata": {},
     "output_type": "execute_result"
    }
   ],
   "source": [
    "generator.construct_expansion()"
   ]
  },
  {
   "cell_type": "code",
   "execution_count": 8,
   "metadata": {},
   "outputs": [
    {
     "ename": "NameError",
     "evalue": "name 'utils' is not defined",
     "output_type": "error",
     "traceback": [
      "\u001b[0;31m---------------------------------------------------------------------------\u001b[0m",
      "\u001b[0;31mNameError\u001b[0m                                 Traceback (most recent call last)",
      "\u001b[1;32m/home/damian/01_research/qubo-encoder/notebooks/tsp.ipynb Cell 13\u001b[0m line \u001b[0;36m2\n\u001b[1;32m      <a href='vscode-notebook-cell:/home/damian/01_research/qubo-encoder/notebooks/tsp.ipynb#X15sZmlsZQ%3D%3D?line=0'>1</a>\u001b[0m A \u001b[39m=\u001b[39m generator\u001b[39m.\u001b[39mconstruct_qubo_matrix()\n\u001b[0;32m----> <a href='vscode-notebook-cell:/home/damian/01_research/qubo-encoder/notebooks/tsp.ipynb#X15sZmlsZQ%3D%3D?line=1'>2</a>\u001b[0m utils\u001b[39m.\u001b[39mprint_matrix(A)\n",
      "\u001b[0;31mNameError\u001b[0m: name 'utils' is not defined"
     ]
    }
   ],
   "source": [
    "A = generator.construct_qubo_matrix()\n",
    "utils.print_matrix(A)"
   ]
  },
  {
   "cell_type": "markdown",
   "metadata": {},
   "source": [
    "## Test Results"
   ]
  },
  {
   "cell_type": "markdown",
   "metadata": {},
   "source": [
    "### Brute Force Optimisation"
   ]
  },
  {
   "cell_type": "code",
   "execution_count": null,
   "metadata": {},
   "outputs": [
    {
     "name": "stdout",
     "output_type": "stream",
     "text": [
      "[3, 1, 2, 4]\n"
     ]
    }
   ],
   "source": [
    "import numpy as np\n",
    "\n",
    "(best_test, best_score) = utils.optimise_classically(A)\n",
    "\n",
    "x = np.array(best_test)\n",
    "pth = generator.decode_bit_array(best_test)\n",
    "print(pth)\n",
    "    "
   ]
  },
  {
   "cell_type": "markdown",
   "metadata": {},
   "source": [
    "### Operator: Classical Eigensolver"
   ]
  },
  {
   "cell_type": "code",
   "execution_count": null,
   "metadata": {},
   "outputs": [
    {
     "name": "stdout",
     "output_type": "stream",
     "text": [
      "[3, 1, 2, 4]\n",
      "(-4927.5+0j)\n"
     ]
    }
   ],
   "source": [
    "from qiskit.algorithms.minimum_eigensolvers import NumPyMinimumEigensolver\n",
    "from qiskit.result import QuasiDistribution\n",
    "from qiskit.quantum_info import Statevector\n",
    "import numpy as np\n",
    "\n",
    "def bitfield(n: int, L: int) -> list[int]:\n",
    "    result = np.binary_repr(n, L)\n",
    "    return [int(digit) for digit in result]\n",
    "\n",
    "def sample_most_likely(state_vector: QuasiDistribution | Statevector) -> np.ndarray:\n",
    "    \"\"\"Compute the most likely binary string from state vector.\n",
    "    Args:\n",
    "        state_vector: State vector or quasi-distribution.\n",
    "\n",
    "    Returns:\n",
    "        Binary string as an array of ints.\n",
    "    \"\"\"\n",
    "    if isinstance(state_vector, QuasiDistribution):\n",
    "        values = list(state_vector.values())\n",
    "    else:\n",
    "        values = state_vector\n",
    "    n = int(np.log2(len(values)))\n",
    "    k = np.argmax(np.abs(values))\n",
    "    x = bitfield(k, n)\n",
    "    x.reverse()\n",
    "    return np.asarray(x)\n",
    "\n",
    "op = generator.construct_operator()\n",
    "\n",
    "npme = NumPyMinimumEigensolver()\n",
    "result = npme.compute_minimum_eigenvalue(op)\n",
    "x = sample_most_likely(result.eigenstate)\n",
    "print(generator.decode_bit_array(x))\n",
    "print(result.eigenvalue)"
   ]
  },
  {
   "cell_type": "markdown",
   "metadata": {},
   "source": [
    "### QAOA"
   ]
  },
  {
   "cell_type": "code",
   "execution_count": null,
   "metadata": {},
   "outputs": [
    {
     "name": "stdout",
     "output_type": "stream",
     "text": [
      "18875\n",
      "[1, 2, 3, 1, 3, 4, 2, 3, 4, 1, 2, 3]\n",
      "-29.78043279695381\n"
     ]
    }
   ],
   "source": [
    "from qiskit.algorithms.minimum_eigensolvers import QAOA\n",
    "from qiskit.algorithms.optimizers import COBYLA\n",
    "from qiskit.primitives import Sampler\n",
    "from qiskit.utils import algorithm_globals\n",
    "import qiskit\n",
    "import random\n",
    "\n",
    "for _ in range(100):\n",
    "    seed = random.randint(10000, 20000)\n",
    "    algorithm_globals.random_seed = seed\n",
    "    op = generator.construct_operator()\n",
    "\n",
    "    sampler = Sampler()\n",
    "    optimizer = COBYLA()\n",
    "    qaoa = QAOA(sampler, optimizer, reps=5)\n",
    "\n",
    "    result = qaoa.compute_minimum_eigenvalue(op)\n",
    "    x = sample_most_likely(result.eigenstate)\n",
    "    print(seed)\n",
    "    print(generator.decode_bit_array(x))\n",
    "    print(result.eigenvalue)"
   ]
  }
 ],
 "metadata": {
  "kernelspec": {
   "display_name": "mqt-test",
   "language": "python",
   "name": "python3"
  },
  "language_info": {
   "codemirror_mode": {
    "name": "ipython",
    "version": 3
   },
   "file_extension": ".py",
   "mimetype": "text/x-python",
   "name": "python",
   "nbconvert_exporter": "python",
   "pygments_lexer": "ipython3",
   "version": "3.11.5"
  }
 },
 "nbformat": 4,
 "nbformat_minor": 2
}
