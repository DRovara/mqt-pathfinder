{
 "cells": [
  {
   "cell_type": "markdown",
   "metadata": {},
   "source": [
    "## Initialisation"
   ]
  },
  {
   "cell_type": "code",
   "execution_count": null,
   "metadata": {},
   "outputs": [],
   "source": [
    "from __future__ import annotations\n",
    "\n",
    "from pathlib import Path\n",
    "\n",
    "import mqt.pathfinder.utils as utils\n",
    "from mqt.pathfinder import cost_functions as cf\n",
    "from mqt.pathfinder.graph import Graph"
   ]
  },
  {
   "cell_type": "code",
   "execution_count": null,
   "metadata": {},
   "outputs": [],
   "source": [
    "with Path(\"graph\").open() as file:\n",
    "    graph = Graph.read(file)\n",
    "graph.plot()"
   ]
  },
  {
   "cell_type": "markdown",
   "metadata": {},
   "source": [
    "## QUBO Construction"
   ]
  },
  {
   "cell_type": "markdown",
   "metadata": {},
   "source": [
    "### Parameters"
   ]
  },
  {
   "cell_type": "code",
   "execution_count": null,
   "metadata": {},
   "outputs": [],
   "source": [
    "encoding_type = cf.EncodingType.ONE_HOT\n",
    "n_paths = 1\n",
    "max_path_length = graph.n_vertices"
   ]
  },
  {
   "cell_type": "code",
   "execution_count": null,
   "metadata": {},
   "outputs": [],
   "source": [
    "settings = cf.PathFindingQUBOGeneratorSettings(encoding_type, n_paths, max_path_length)\n",
    "generator = cf.PathFindingQUBOGenerator(cf.MinimisePathLength([1], loop=True), graph, settings)"
   ]
  },
  {
   "cell_type": "markdown",
   "metadata": {},
   "source": [
    "### Constraints"
   ]
  },
  {
   "cell_type": "code",
   "execution_count": null,
   "metadata": {},
   "outputs": [],
   "source": [
    "generator.add_constraint(cf.PathIsValid([1]))\n",
    "generator.add_constraint(cf.PathIsLoop([1]))\n",
    "generator.add_constraint(cf.PathContainsVerticesExactlyOnce(graph.all_vertices, [1]))"
   ]
  },
  {
   "cell_type": "markdown",
   "metadata": {},
   "source": [
    "### Generate QUBO Formulation"
   ]
  },
  {
   "cell_type": "code",
   "execution_count": null,
   "metadata": {},
   "outputs": [],
   "source": [
    "generator.construct()"
   ]
  },
  {
   "cell_type": "code",
   "execution_count": null,
   "metadata": {},
   "outputs": [],
   "source": [
    "generator.construct_expansion()"
   ]
  },
  {
   "cell_type": "code",
   "execution_count": null,
   "metadata": {},
   "outputs": [],
   "source": [
    "A = generator.construct_qubo_matrix()\n",
    "utils.print_matrix(A)"
   ]
  },
  {
   "cell_type": "markdown",
   "metadata": {},
   "source": [
    "## Test Results"
   ]
  },
  {
   "cell_type": "markdown",
   "metadata": {},
   "source": [
    "### Brute Force Optimisation"
   ]
  },
  {
   "cell_type": "code",
   "execution_count": null,
   "metadata": {},
   "outputs": [],
   "source": [
    "import numpy as np\n",
    "\n",
    "(best_test, best_score) = utils.optimise_classically(A)\n",
    "\n",
    "x = np.array(best_test)\n",
    "pth = generator.decode_bit_array(best_test)\n",
    "print(pth)"
   ]
  },
  {
   "cell_type": "markdown",
   "metadata": {},
   "source": [
    "### Operator: Classical Eigensolver"
   ]
  },
  {
   "cell_type": "code",
   "execution_count": null,
   "metadata": {},
   "outputs": [],
   "source": [
    "from typing import TYPE_CHECKING\n",
    "\n",
    "import numpy as np\n",
    "import numpy.typing as npt\n",
    "from qiskit.algorithms.minimum_eigensolvers import NumPyMinimumEigensolver\n",
    "from qiskit.result import QuasiDistribution\n",
    "\n",
    "if TYPE_CHECKING:\n",
    "    from qiskit.quantum_info import Statevector\n",
    "\n",
    "\n",
    "def bitfield(n: int, L: int) -> list[int]:\n",
    "    result = np.binary_repr(n, L)\n",
    "    return [int(digit) for digit in result]\n",
    "\n",
    "\n",
    "def sample_most_likely(state_vector: QuasiDistribution | Statevector) -> npt.NDArray[np.int_ | np.float64]:\n",
    "    \"\"\"Compute the most likely binary string from state vector.\n",
    "    Args:\n",
    "        state_vector: State vector or quasi-distribution.\n",
    "\n",
    "    Returns:\n",
    "        Binary string as an array of ints.\n",
    "    \"\"\"\n",
    "    values = list(state_vector.values()) if isinstance(state_vector, QuasiDistribution) else state_vector\n",
    "    n = int(np.log2(len(values)))\n",
    "    k = np.argmax(np.abs(values))\n",
    "    x = bitfield(k, n)\n",
    "    x.reverse()\n",
    "    return np.asarray(x)\n",
    "\n",
    "\n",
    "op = generator.construct_operator()\n",
    "\n",
    "npme = NumPyMinimumEigensolver()\n",
    "result = npme.compute_minimum_eigenvalue(op)\n",
    "x = sample_most_likely(result.eigenstate)\n",
    "print(generator.decode_bit_array(x))\n",
    "print(result.eigenvalue)"
   ]
  },
  {
   "cell_type": "markdown",
   "metadata": {},
   "source": [
    "### QAOA"
   ]
  },
  {
   "cell_type": "code",
   "execution_count": null,
   "metadata": {},
   "outputs": [],
   "source": [
    "import random\n",
    "\n",
    "from qiskit.algorithms.minimum_eigensolvers import QAOA\n",
    "from qiskit.algorithms.optimizers import COBYLA\n",
    "from qiskit.primitives import Sampler\n",
    "from qiskit.utils import algorithm_globals\n",
    "\n",
    "for _ in range(100):\n",
    "    seed = random.randint(10000, 20000)\n",
    "    algorithm_globals.random_seed = seed\n",
    "    op = generator.construct_operator()\n",
    "\n",
    "    sampler = Sampler()\n",
    "    optimizer = COBYLA()\n",
    "    qaoa = QAOA(sampler, optimizer, reps=5)\n",
    "\n",
    "    result = qaoa.compute_minimum_eigenvalue(op)\n",
    "    x = sample_most_likely(result.eigenstate)\n",
    "    print(seed)\n",
    "    print(generator.decode_bit_array(x))\n",
    "    print(result.eigenvalue)"
   ]
  }
 ],
 "metadata": {
  "kernelspec": {
   "display_name": "mqt-test",
   "language": "python",
   "name": "python3"
  },
  "language_info": {
   "codemirror_mode": {
    "name": "ipython",
    "version": 3
   },
   "file_extension": ".py",
   "mimetype": "text/x-python",
   "name": "python",
   "nbconvert_exporter": "python",
   "pygments_lexer": "ipython3"
  }
 },
 "nbformat": 4,
 "nbformat_minor": 2
}
