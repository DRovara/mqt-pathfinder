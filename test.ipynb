{
 "cells": [
  {
   "cell_type": "code",
   "execution_count": 1,
   "metadata": {},
   "outputs": [],
   "source": [
    "from arithmetic import Variable, Constant, SumFromTo\n",
    "from graph import Graph\n",
    "from cost_functions import *\n",
    "import math\n",
    "\n",
    "def c(value: float | int) -> Constant:\n",
    "    return Constant(value)"
   ]
  },
  {
   "cell_type": "markdown",
   "metadata": {},
   "source": [
    "### Arithmetic"
   ]
  },
  {
   "cell_type": "code",
   "execution_count": 1,
   "metadata": {},
   "outputs": [
    {
     "ename": "NameError",
     "evalue": "name 'Variable' is not defined",
     "output_type": "error",
     "traceback": [
      "\u001b[0;31m---------------------------------------------------------------------------\u001b[0m",
      "\u001b[0;31mNameError\u001b[0m                                 Traceback (most recent call last)",
      "\u001b[1;32m/home/damian/01_research/qubo-encoder/test.ipynb Cell 3\u001b[0m line \u001b[0;36m1\n\u001b[0;32m----> <a href='vscode-notebook-cell:/home/damian/01_research/qubo-encoder/test.ipynb#W2sZmlsZQ%3D%3D?line=0'>1</a>\u001b[0m x \u001b[39m=\u001b[39m Variable(\u001b[39m\"\u001b[39m\u001b[39mx\u001b[39m\u001b[39m\"\u001b[39m, [\u001b[39m\"\u001b[39m\u001b[39mv\u001b[39m\u001b[39m\"\u001b[39m, \u001b[39m\"\u001b[39m\u001b[39m\\\\\u001b[39;00m\u001b[39malpha\u001b[39m\u001b[39m\"\u001b[39m])\n\u001b[1;32m      <a href='vscode-notebook-cell:/home/damian/01_research/qubo-encoder/test.ipynb#W2sZmlsZQ%3D%3D?line=1'>2</a>\u001b[0m i \u001b[39m=\u001b[39m Variable(\u001b[39m\"\u001b[39m\u001b[39mi\u001b[39m\u001b[39m\"\u001b[39m)\n\u001b[1;32m      <a href='vscode-notebook-cell:/home/damian/01_research/qubo-encoder/test.ipynb#W2sZmlsZQ%3D%3D?line=2'>3</a>\u001b[0m N \u001b[39m=\u001b[39m Variable(\u001b[39m\"\u001b[39m\u001b[39mN\u001b[39m\u001b[39m\"\u001b[39m)\n",
      "\u001b[0;31mNameError\u001b[0m: name 'Variable' is not defined"
     ]
    }
   ],
   "source": [
    "x = Variable(\"x\", [\"v\", \"\\\\alpha\"])\n",
    "i = Variable(\"i\")\n",
    "N = Variable(\"N\")\n",
    "x_i = Variable(\"x\", [\"v\", \"i\"])"
   ]
  },
  {
   "cell_type": "code",
   "execution_count": 3,
   "metadata": {},
   "outputs": [
    {
     "data": {
      "text/latex": [
       "$$\\frac{\\left( x_{v}^{\\alpha} + 1 \\right)}{x_{v}^{\\alpha}} \\left( x_{v}^{\\alpha} + 2 \\right) + \\sum_{i=1}^{N} x_{v}^{i}$$"
      ],
      "text/plain": [
       "Addition(order=3, left=Multiplication(order=2, left=Division(order=2, left=Addition(order=3, left=Variable(order=0, name='x', subscripts=[Variable(order=0, name='v', subscripts=[], superscripts=[])], superscripts=[Variable(order=0, name='\\\\alpha', subscripts=[], superscripts=[])]), right=Constant(order=0, value=1.0)), right=Variable(order=0, name='x', subscripts=[Variable(order=0, name='v', subscripts=[], superscripts=[])], superscripts=[Variable(order=0, name='\\\\alpha', subscripts=[], superscripts=[])])), right=Addition(order=3, left=Variable(order=0, name='x', subscripts=[Variable(order=0, name='v', subscripts=[], superscripts=[])], superscripts=[Variable(order=0, name='\\\\alpha', subscripts=[], superscripts=[])]), right=Constant(order=0, value=2.0))), right=SumFromTo(order=3, expression=Variable(order=0, name='x', subscripts=[Variable(order=0, name='v', subscripts=[], superscripts=[])], superscripts=[Variable(order=0, name='i', subscripts=[], superscripts=[])]), variable=Variable(order=0, name='i', subscripts=[], superscripts=[]), from_value=Constant(order=0, value=1), to_value=Variable(order=0, name='N', subscripts=[], superscripts=[])))"
      ]
     },
     "execution_count": 3,
     "metadata": {},
     "output_type": "execute_result"
    }
   ],
   "source": [
    "((x + 1) / x * (x + 2) + SumFromTo(x_i, i, c(1), N))"
   ]
  },
  {
   "cell_type": "markdown",
   "metadata": {},
   "source": [
    "### Merging Cost Functions"
   ]
  },
  {
   "cell_type": "code",
   "execution_count": 4,
   "metadata": {},
   "outputs": [],
   "source": [
    "with open(\"graph\", \"r\") as file:\n",
    "    g = Graph.read(file)\n",
    "    \n",
    "constraints: list[CostFunction] = [\n",
    "    PathIsValid([0]),\n",
    "    PathIsLoop(),\n",
    "    PathContainsVerticesExactlyOnce(list(range(g.n_vertices)))\n",
    "]\n",
    "\n",
    "optimisation_goals: list[CostFunction] = [\n",
    "    MinimisePathLength([0])\n",
    "]\n",
    "\n",
    "full_cost_function = merge(constraints, optimisation_goals)\n",
    "#full_cost_function.get_formula(g, EncodingType.OneHot)"
   ]
  },
  {
   "cell_type": "markdown",
   "metadata": {},
   "source": [
    "### UI"
   ]
  },
  {
   "cell_type": "code",
   "execution_count": 5,
   "metadata": {},
   "outputs": [
    {
     "data": {
      "application/vnd.jupyter.widget-view+json": {
       "model_id": "db13d823050041cb9a43b6fe6ae65437",
       "version_major": 2,
       "version_minor": 0
      },
      "text/plain": [
       "VBox(children=(Accordion(children=(VBox(children=(HBox(children=(Textarea(value='0. 4. 2. 0.\\n3. 0. 0. 2.\\n2. …"
      ]
     },
     "execution_count": 5,
     "metadata": {},
     "output_type": "execute_result"
    },
    {
     "data": {
      "text/latex": [
       "$$\\left( \\sum_{(v, w) \\not\\in E} \\sum_{i=1}^{4} x_{v}^{i} x_{w}^{i + 1} \\right) + \\left( \\sum_{i=1}^{3} \\sum_{v=1}^{4} \\sum_{w=1}^{4} A_{vw} x_{v}^{i} x_{w}^{i + 1} \\right)$$"
      ],
      "text/plain": [
       "Addition(order=3, left=Multiplication(order=2, left=Constant(order=0, value=1), right=SumSet(order=3, expression=SumFromTo(order=3, expression=Multiplication(order=2, left=Variable(order=0, name='x', subscripts=[Variable(order=0, name='v', subscripts=[], superscripts=[])], superscripts=[Variable(order=0, name='i', subscripts=[], superscripts=[])]), right=Variable(order=0, name='x', subscripts=[Variable(order=0, name='w', subscripts=[], superscripts=[])], superscripts=[Variable(order=0, name='i + 1', subscripts=[], superscripts=[])])), variable=Variable(order=0, name='i', subscripts=[], superscripts=[]), from_value=Constant(order=0, value=1), to_value=Constant(order=0, value=4)), variables=[Variable(order=0, name='v', subscripts=[], superscripts=[]), Variable(order=0, name='w', subscripts=[], superscripts=[])], set_expression='\\\\not\\\\in E', set_callback=<function PathIsValid.get_formula.<locals>.<lambda> at 0x7f5447083ec0>)), right=Multiplication(order=2, left=Constant(order=0, value=1), right=SumFromTo(order=3, expression=SumFromTo(order=3, expression=SumFromTo(order=3, expression=Multiplication(order=2, left=Multiplication(order=2, left=Variable(order=0, name='A', subscripts=[Variable(order=0, name='v', subscripts=[], superscripts=[]), Variable(order=0, name='w', subscripts=[], superscripts=[])], superscripts=[]), right=Variable(order=0, name='x', subscripts=[Variable(order=0, name='v', subscripts=[], superscripts=[])], superscripts=[Variable(order=0, name='i', subscripts=[], superscripts=[])])), right=Variable(order=0, name='x', subscripts=[Variable(order=0, name='w', subscripts=[], superscripts=[])], superscripts=[Variable(order=0, name='i + 1', subscripts=[], superscripts=[])])), variable=Variable(order=0, name='w', subscripts=[], superscripts=[]), from_value=Constant(order=0, value=1), to_value=Constant(order=0, value=4)), variable=Variable(order=0, name='v', subscripts=[], superscripts=[]), from_value=Constant(order=0, value=1), to_value=Constant(order=0, value=4)), variable=Variable(order=0, name='i', subscripts=[], superscripts=[]), from_value=Constant(order=0, value=1), to_value=Constant(order=0, value=3))))"
      ]
     },
     "metadata": {},
     "output_type": "display_data"
    }
   ],
   "source": [
    "import ipywidgets as widgets\n",
    "\n",
    "dropdown_style = {\"description_width\": \"40%\"}\n",
    "\n",
    "with open(\"graph\", \"r\") as file:\n",
    "    g = Graph.read(file)\n",
    "\n",
    "graph_text_area = widgets.Textarea(\n",
    "        value=str(g.serialize()),\n",
    "        disabled=False,\n",
    "        layout={\"height\": \"360px\", \"width\": \"200px\"}\n",
    "    )\n",
    "graph_output = widgets.Output(\n",
    "    \n",
    ")\n",
    "with graph_output:\n",
    "    g.plot()\n",
    "graph_update_button = widgets.Button(description=\"Update\", tooltip=\"Construct a new graph from the provided adjacency matrix.\", disabled=False)\n",
    "\n",
    "def graph_update_button_click(_: widgets.Button):\n",
    "    graph_output.clear_output()\n",
    "    g = Graph.deserialize(graph_text_area.value)\n",
    "    with open(\"graph\", \"w\") as file:\n",
    "        g.store(file)\n",
    "    with graph_output:\n",
    "        g.plot()\n",
    "graph_update_button.on_click(graph_update_button_click)\n",
    "graph_input = widgets.VBox([\n",
    "    widgets.HBox([\n",
    "        graph_text_area,\n",
    "        graph_output\n",
    "    ]),\n",
    "    graph_update_button\n",
    "])\n",
    "\n",
    "encoding = widgets.VBox([\n",
    "    widgets.Dropdown(\n",
    "        options=[\"One-Hot\", \"Unary\", \"Binary\"],\n",
    "        value=\"One-Hot\",\n",
    "        description=\"Encoding:\",\n",
    "        disabled=False\n",
    "    ),\n",
    "    widgets.ToggleButtons(\n",
    "        options=['|V|/2', '|V|', '|V| + 1', '2*|V|'],\n",
    "        description='Maximum allowed Path length:',\n",
    "        disabled=False,\n",
    "        value=\"|V|\",\n",
    "        button_style='', # 'success', 'info', 'warning', 'danger' or ''\n",
    "        tooltips=['A path has at most |V|/2 vertices.', 'A path has at most |V|/2 vertices.', 'A path has at most 2*|V| vertices. Try to minimise as far as possible.'],\n",
    "        style=dropdown_style\n",
    "    ),\n",
    "])\n",
    "\n",
    "path_properties = widgets.VBox([\n",
    "    widgets.HBox([\n",
    "        widgets.ToggleButton(\n",
    "            value=True,\n",
    "            description=\"Valid\",\n",
    "            tooltip=\"Selected by default. When disabled, cost function will not contain term to check if path is conntected.\",\n",
    "            disabled=False,\n",
    "            indent=False\n",
    "        ),\n",
    "        widgets.ToggleButton(\n",
    "            value=False,\n",
    "            description=\"Loop\",\n",
    "            tooltip=\"Indicates that the path should end at the starting position.\",\n",
    "            disabled=False,\n",
    "            indent=False\n",
    "        ),\n",
    "        widgets.ToggleButton(\n",
    "            value=False,\n",
    "            description=\"Vertex-Disjoint\",\n",
    "            tooltip=\"Prevent Path intersections on Vertices (Currently not supported).\",\n",
    "            disabled=True,\n",
    "            indent=False\n",
    "        ),\n",
    "        widgets.ToggleButton(\n",
    "            value=False,\n",
    "            description=\"Edge-Disjoint\",\n",
    "            tooltip=\"Prevent Path intersections on Edges (Currently not supported).\",\n",
    "            disabled=True,\n",
    "            indent=False\n",
    "        )\n",
    "    ]),\n",
    "    widgets.BoundedIntText(\n",
    "        value=1,\n",
    "        description=\"Number of Paths:\",\n",
    "        disabled=False,\n",
    "        style=dropdown_style,\n",
    "        min=1,\n",
    "        max=9\n",
    "    )\n",
    "])\n",
    "vertex_properties = widgets.VBox([\n",
    "    widgets.Dropdown(\n",
    "        options=[\"Any\"] + list(range(1, g.n_vertices + 1)),\n",
    "        value=\"Any\",\n",
    "        description=\"Starting Vertex:\",\n",
    "        disabled=False,\n",
    "        style=dropdown_style\n",
    "    ),\n",
    "    widgets.Dropdown(\n",
    "        options=[\"Any\"] + list(range(1, g.n_vertices + 1)),\n",
    "        value=\"Any\",\n",
    "        description=\"End Vertex:\",\n",
    "        disabled=False,\n",
    "        style=dropdown_style\n",
    "    ),\n",
    "    widgets.VBox([\n",
    "        widgets.Label(value=\"The following vertices must appear EXACTLY once per path:\"),\n",
    "        widgets.GridBox([\n",
    "                widgets.ToggleButton(\n",
    "                    value=False,\n",
    "                    description=f\"{i}\",\n",
    "                    disabled=False,\n",
    "                    layout={\"width\": \"30px\"}\n",
    "                )\n",
    "                for i in range(1, g.n_vertices + 1)\n",
    "            ],\n",
    "            layout=widgets.Layout(grid_template_columns=f\"repeat({int(math.ceil(g.n_vertices**0.5))}, 35px)\")\n",
    "        )\n",
    "    ]),\n",
    "    widgets.VBox([\n",
    "        widgets.Label(value=\"The following vertices must appear AT LEAST once per path (Currently not supported):\"),\n",
    "        widgets.GridBox([\n",
    "                widgets.ToggleButton(\n",
    "                    value=False,\n",
    "                    description=f\"{i}\",\n",
    "                    disabled=False,\n",
    "                    layout={\"width\": \"30px\"}\n",
    "                )\n",
    "                for i in range(1, g.n_vertices + 1)\n",
    "            ],\n",
    "            layout=widgets.Layout(grid_template_columns=f\"repeat({int(math.ceil(g.n_vertices**0.5))}, 35px)\")\n",
    "        )\n",
    "    ]),\n",
    "    widgets.VBox([\n",
    "        widgets.Label(value=\"The following vertices can appear AT MOST once per path (Currently not supported):\"),\n",
    "        widgets.GridBox([\n",
    "                widgets.ToggleButton(\n",
    "                    value=False,\n",
    "                    description=f\"{i}\",\n",
    "                    disabled=False,\n",
    "                    layout={\"width\": \"30px\"}\n",
    "                )\n",
    "                for i in range(1, g.n_vertices + 1)\n",
    "            ],\n",
    "            layout=widgets.Layout(grid_template_columns=f\"repeat({int(math.ceil(g.n_vertices**0.5))}, 35px)\")\n",
    "        )\n",
    "    ])\n",
    "])\n",
    "\n",
    "optimisation_goals_input = widgets.VBox([\n",
    "    widgets.ToggleButton(\n",
    "        value=True,\n",
    "        tooltip=\"When enabled, optimises the selected path(s) with respect to their lengths.\",\n",
    "        description=\"Minimise Path Length\",\n",
    "        disabled=False,\n",
    "        indent=False\n",
    "    ),\n",
    "])\n",
    "\n",
    "generate_button = widgets.Button(description=\"Generate\", disabled=False)\n",
    "def generate_click(button: widgets.Button):\n",
    "    selected_encoding = encoding.children[0].value\n",
    "    maximum_path_length = encoding.children[1].value\n",
    "    \n",
    "    is_valid = path_properties.children[0].children[0].value\n",
    "    is_loop = path_properties.children[0].children[1].value\n",
    "    vertex_disjoint = path_properties.children[0].children[2].value\n",
    "    edge_disjoint = path_properties.children[0].children[3].value\n",
    "    n_paths = path_properties.children[1].value\n",
    "    \n",
    "    starting_vertex = vertex_properties.children[0].value\n",
    "    ending_vertex = vertex_properties.children[1].value\n",
    "    exactly_once = [i + 1 for i, child in enumerate(vertex_properties.children[2].children[1].children) if child.value]\n",
    "    at_least_once = [i + 1 for i, child in enumerate(vertex_properties.children[3].children[1].children) if child.value]\n",
    "    at_most_once = [i + 1 for i, child in enumerate(vertex_properties.children[4].children[1].children) if child.value]\n",
    "    \n",
    "    minimise_path_length = optimisation_goals_input.children[0].value\n",
    "    \n",
    "    constraints: list[CostFunction] = []\n",
    "    if is_valid:\n",
    "        constraints.append(PathIsValid([0]))\n",
    "    if is_loop:\n",
    "        constraints.append(PathIsLoop())\n",
    "    if vertex_disjoint:\n",
    "        constraints.append(PathsShareNoVertices([0]))\n",
    "    if edge_disjoint:\n",
    "        constraints.append(PathsShareNoEdges([0]))\n",
    "    \n",
    "    if starting_vertex != \"Any\":\n",
    "        constraints.append(PathStartsAt([int(starting_vertex)]))\n",
    "    if ending_vertex != \"Any\":\n",
    "        constraints.append(PathEndsAt([int(ending_vertex)]))\n",
    "    if exactly_once:\n",
    "        constraints.append(PathContainsVerticesExactlyOnce(exactly_once))\n",
    "    if at_least_once:\n",
    "        constraints.append(PathContainsVerticesAtLeastOnce(at_least_once))\n",
    "    if at_most_once:\n",
    "        constraints.append(PathContainsVerticesAtMostOnce(at_most_once))\n",
    "\n",
    "    optimisation_goals: list[CostFunction] = []\n",
    "    if minimise_path_length:\n",
    "        optimisation_goals.append(MinimisePathLength([0]))\n",
    "\n",
    "    full_cost_function = merge(constraints, optimisation_goals)\n",
    "    display(full_cost_function.get_formula(g, EncodingType.OneHot))\n",
    "\n",
    "generate_button.on_click(generate_click)\n",
    "\n",
    "\n",
    "widgets.VBox([\n",
    "    widgets.Accordion(\n",
    "        children=[graph_input, encoding, path_properties, vertex_properties, optimisation_goals_input],\n",
    "        titles=(\"Graph\", \"Encoding\", \"Path Properties\", \"Vertex Properties\", \"Optimisation Goals\")\n",
    "    ),\n",
    "    generate_button\n",
    "])"
   ]
  }
 ],
 "metadata": {
  "kernelspec": {
   "display_name": "mqt-test",
   "language": "python",
   "name": "python3"
  },
  "language_info": {
   "codemirror_mode": {
    "name": "ipython",
    "version": 3
   },
   "file_extension": ".py",
   "mimetype": "text/x-python",
   "name": "python",
   "nbconvert_exporter": "python",
   "pygments_lexer": "ipython3",
   "version": "3.11.5"
  }
 },
 "nbformat": 4,
 "nbformat_minor": 2
}
